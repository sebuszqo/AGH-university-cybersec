{
 "cells": [
  {
   "attachments": {},
   "cell_type": "markdown",
   "metadata": {},
   "source": [
    "Dodawanie nowego bloku do blockchainu:\n",
    "1. Zapisanie danych, jako transakcji w odpowiedniej zmiennej.\n",
    "2. Stworzenie blockchainu, czyli pustej listy, do której będziemy dodawać kolejne bloki.\n",
    "3. Sprawdzenie czy liczba transakcji dla danego bloku wynosi sześć.\n",
    "4. Dodanie do blockchainu pierwszego bloku, czyli Bloku Genesis, zawierającego zmienne index, data, timestamp, previous_hash, nonce.\n",
    "5. Znalezienie odpowiedniego hasha SHA-256, który pasowałby do określonego schematu i ustalonej na początku trudności szukania takiego hasha.\n",
    "6. Po znalezieniu odpowiedniej wartości \"nonce\", dodajemy Blok Genesis do blockchainu, wyświetlając przy tym odpowiedni komunikat.\n",
    "7. Taki sam mechanizm jest stosowany podczas dodawania kolejnych bloków, jeżeli blok będzie mógł pobrać przynajmniej sześć transakcji. Zmienia się jedynie indeks bloku o jeden wyżej oraz zmienna \"previous_hash\" jest ustawiana na wyliczony wcześniej hash poprzedniego bloku w blockchainie.\n",
    "8. Na koniec, wszystkie bloki w blokchainie zostają wyświetlone oraz blockchain zostaje odpowiednio sprawdzony. W przypadku, gdy wystąpiła podmiana wartości, w którymś bloku, funkcja sprawdzająca ich poprawność zwróci wartość \"False\"."
   ]
  },
  {
   "attachments": {},
   "cell_type": "markdown",
   "metadata": {},
   "source": [
    "Dodanie podstawowych bibliotek:<br>\n",
    "> hashlib - hashowanie bloku za pomocą SHA-256<br>\n",
    "time - pobieranie czasu rzeczywistego<br>\n",
    "re - tworzenie wyrażeń regularnych<br>\n",
    "termcolor - wyświetlania danych wyjściowych w kolorze<br>"
   ]
  },
  {
   "cell_type": "code",
   "execution_count": null,
   "metadata": {},
   "outputs": [
    {
     "name": "stdout",
     "output_type": "stream",
     "text": [
      "Requirement already satisfied: colored in /opt/homebrew/lib/python3.10/site-packages (1.4.4)\n"
     ]
    }
   ],
   "source": [
    "import sys\n",
    "!{sys.executable} -m pip install colored"
   ]
  },
  {
   "cell_type": "code",
   "execution_count": null,
   "metadata": {},
   "outputs": [],
   "source": [
    "import hashlib\n",
    "import time\n",
    "import re\n",
    "from termcolor import colored"
   ]
  },
  {
   "cell_type": "markdown",
   "metadata": {},
   "source": [
    "Poniższy kod zawiera wyświetlenie w odpowiednim formacie całego blockainu. Dodatkowo dane wyjściowe są wyświetlane w kolorze, co poprawia ich czytelność.\n",
    "<br>\n",
    "<br>\n",
    "**print_blockchain()** - przyjmuje, jako argument łańcuch bloków, a następnie wyświetla każdy blok, używając funkcji pprint()"
   ]
  },
  {
   "cell_type": "code",
   "execution_count": null,
   "metadata": {},
   "outputs": [],
   "source": [
    "def print_blockchain(blockchain):\n",
    "    for block in blockchain:\n",
    "        print(colored(f\"Block {block}\", \"red\"))\n",
    "        pprint(block)\n",
    "\n",
    "\n",
    "def pprint(block):\n",
    "    print('{')\n",
    "    print(\"\\t\", f\"{colored('index', 'green')}: {block.index}\")\n",
    "    print(\"\\t\", f\"{colored('data', 'green')}: {block.data}\")\n",
    "    print(\"\\t\", f\"{colored('timestamp', 'green')}: {block.timestamp}\")\n",
    "    print(\"\\t\", f\"{colored('previous_hash', 'green')}: {block.previous_hash}\")\n",
    "    print(\"\\t\", f\"{colored('nonce', 'green')}: {block.nonce}\")\n",
    "    print(\"\\t\", f\"{colored('hash', 'green')}: {block.hash}\")\n",
    "    print('}')\n",
    "    print()"
   ]
  },
  {
   "attachments": {},
   "cell_type": "markdown",
   "metadata": {},
   "source": [
    "**validating()** - przyjmuje, jako argument łańcuch bloków i sprawdza, czy każdy blok ma poprawny hash i czy hash poprzedniego bloku się zgadza. Zwraca True (\"Blockchain is valid\") jeśli łańcuch jest poprawny, w przeciwnym razie zwraca False (\"Blockchain is not valid\")."
   ]
  },
  {
   "cell_type": "code",
   "execution_count": null,
   "metadata": {},
   "outputs": [],
   "source": [
    "def validating(blockchain):\n",
    "    # If only blockGenesis\n",
    "    if (len(blockchain) == 1):\n",
    "        return True\n",
    "    for i in range(1, len(blockchain)):\n",
    "        current_block = blockchain[i]\n",
    "        previous_block = blockchain[i - 1]\n",
    "        if current_block.hash != current_block.calc_hash() or previous_block.hash != current_block.previous_hash:\n",
    "            return \"Blockchain is not valid!\"\n",
    "    return \"Blockchain is valid\""
   ]
  },
  {
   "attachments": {},
   "cell_type": "markdown",
   "metadata": {},
   "source": [
    "**hex_to_bin()** - przyjmuje, jako argument liczbę w postaci szesnastkowej i zwraca tę liczbę w postaci binarnej, pozostawiając odpowiednią liczbę zer na początku."
   ]
  },
  {
   "cell_type": "code",
   "execution_count": null,
   "metadata": {},
   "outputs": [],
   "source": [
    "def hex_to_bin(hex):\n",
    "    return (bin(int(hex, 16))[2:]).zfill(len(hex) * 4)"
   ]
  },
  {
   "cell_type": "markdown",
   "metadata": {},
   "source": [
    "**read_data()** - przyjmuje, jako argument ścieżkę do pliku tekstowego, gdzie podane są przykładowe transakcje, a następnie odczytuje te dane, usuwa z nich znaki nowej linii i dzieli je na grupy. W każdej grupie znajduje się sześć transakcji. Na koniec grupy te zostają przez funkcję zwrócone."
   ]
  },
  {
   "cell_type": "code",
   "execution_count": null,
   "metadata": {},
   "outputs": [],
   "source": [
    "def read_data(file_path):\n",
    "    with open(file_path) as file:\n",
    "        data = file.readlines()\n",
    "        data = [line.rstrip('\\n') for line in data]\n",
    "        groups = [data[n:n+6] for n in range(0, len(data), 6)]\n",
    "        # print(groups)\n",
    "        return groups"
   ]
  },
  {
   "attachments": {},
   "cell_type": "markdown",
   "metadata": {},
   "source": [
    "*Klasa \"Block\" zawiera w sobie zmienną \"difficulty\", która powoduje ustawienie odpowiedniej trudności znajdowania hasha, przez zmianę liczby potrzebnych zer na początku tego hasha.*<br><br>\n",
    "Konstruktor **__init__()** zawiera poniższe zmienne:<br>\n",
    "**index** - numer identyfikatora bloku <br>\n",
    "**data** - dane sześciu pobranych transakcji <br>\n",
    "**timestamp** - czas dodania bloku do łańcucha<br>\n",
    "**previous_hash** - hash poprzedniego bloku<br>\n",
    "**nounce** (ang. number only used once) - pomaga znaleźć odpowiedni hash, który spełni ograniczenia poziomu trudności<br>\n",
    "**hash** - hash aktualnego bloku)<br>\n",
    "<br> \n",
    "**calc_hash()** - hashuje wszystkie zmienne znajdujące się w bloku za pomocą funkcji skrótu SHA-256, a na koniec zwraca hash w postaci heksadecymalnej.\n",
    "<br><br>\n",
    "**mining()** - odpowiada za proces szukania(kopania) hasha, czyli szukania takiego hasha, który spełni odpowiednie parametry. W tym przypadku, odpowiednią liczbę zer na początku hasha. Jeżeli nie spełnia, to zmienna \"nonce\" jest zwiększana o jeden.\n",
    "<br><br>\n",
    "**genesis_block(data)** - tworzy klasę \"Block\" o indeksie zero, a następnie czeka na \"wykopanie\". Jeżeli odpowiedni hash zostanie wyliczony, to wyświetlany jest komunikat o dodaniu bloku genesis. Hash poprzedniego bloku jest równy 64 zera.\n",
    "<br><br>\n",
    "**create_block(last_block, data), add_block(last_block, data)** - działają w podobny sposób, jak funkcja \"genesis_block\". Różnica polega jedynia na tym, że indeks jest zwiększany o jeden w porównaniu do poprzedniego bloku oraz potrzebny funkcji jest hash bloku poprzedniego."
   ]
  },
  {
   "cell_type": "code",
   "execution_count": null,
   "metadata": {},
   "outputs": [],
   "source": [
    "class Block:\n",
    "    difficulty = 10\n",
    "\n",
    "    def __init__(self, index, timestamp, data, previous_hash):\n",
    "        self.index = index\n",
    "        self.data = data\n",
    "        self.timestamp = timestamp\n",
    "        self.previous_hash = previous_hash\n",
    "        self.nonce = 0\n",
    "        self.hash = self.calc_hash()\n",
    "\n",
    "    def calc_hash(self):\n",
    "        sha = hashlib.sha256()\n",
    "        sha.update((str(self.index) + str(self.timestamp) +\n",
    "                   str(self.data) + str(self.previous_hash) + str(self.nonce)).encode())\n",
    "        return sha.hexdigest()\n",
    "\n",
    "    def mining(self):\n",
    "        # regex - set the number of zeros at the beginning and zero or more numbers after it\n",
    "        regex = \"^(0){\" + str(Block.difficulty) + \"}.*\"\n",
    "        # convert hexadecimal hash to binary form\n",
    "        binary_hash = hex_to_bin(self.hash)\n",
    "        while not re.match(regex, binary_hash):\n",
    "            # Increase the nonce value until we have the hash which will match the regex pattern\n",
    "            self.nonce += 1\n",
    "            self.hash = self.calc_hash()\n",
    "            binary_hash = hex_to_bin(self.hash)\n",
    "        return True\n",
    "\n",
    "\n",
    "    def genesis_block(data):\n",
    "        block = Block(0, time.time(), data, \"0000000000000000000000000000000000000000000000000000000000000000\")\n",
    "        if block.mining():\n",
    "            print(\n",
    "                colored(f\"Genesis block ID:{block.index} was added successfully!\", \"blue\"))\n",
    "            return block\n",
    "\n",
    "    def create_block(last_block, data):\n",
    "        index = last_block.index + 1\n",
    "        previous_hash = last_block.hash\n",
    "        return Block(index, time.time(), data, previous_hash)\n",
    "\n",
    "    def add_block(last_block, data):\n",
    "        block = Block.create_block(last_block, data)\n",
    "        if block.mining():\n",
    "            print(\n",
    "                colored(f\"Block ID:{block.index} was added successfully!\", \"blue\"))\n",
    "            return block"
   ]
  },
  {
   "attachments": {},
   "cell_type": "markdown",
   "metadata": {},
   "source": [
    "**create_blockchain()** - funkcja najpierw pobiera dane (transakcje) z pliku tekstowego. Następnie, dodaje do listy odpowiednią ilość transakcji. Blok jest dodawany wtedy, gdy liczba transakcji wynosi sześć. Na koniec, zwracana jest liczba bloków."
   ]
  },
  {
   "cell_type": "code",
   "execution_count": null,
   "metadata": {},
   "outputs": [],
   "source": [
    "def create_blockchain():\n",
    "    file_path = \"./transactions.txt\"\n",
    "    data = read_data(file_path)\n",
    "\n",
    "    blockchain = []\n",
    "    for index, data_blocks in enumerate(data):\n",
    "        if len(data_blocks) == 6:\n",
    "            if index == 0:\n",
    "                blockchain.append(Block.genesis_block(data_blocks))\n",
    "            else:\n",
    "                blockchain.append(Block.add_block(blockchain[-1], data_blocks))\n",
    "    return blockchain"
   ]
  },
  {
   "cell_type": "markdown",
   "metadata": {},
   "source": [
    "Na koniec, zostaje stworzony blockchain na podstawie podanych transakcji. Następnie, jego zawartość zostaje wyświetlona oraz poprawność wszystkich bloków zostaje zweryfikowana. Każda zmiana w blokach powoduje zwrócenie przez funkcję \"validating\" wartości \"False\"."
   ]
  },
  {
   "cell_type": "code",
   "execution_count": null,
   "metadata": {},
   "outputs": [
    {
     "name": "stdout",
     "output_type": "stream",
     "text": [
      "Genesis block ID:0 was added successfully!\n",
      "Block ID:1 was added successfully!\n",
      "Block <__main__.Block object at 0x106424a00>\n",
      "{\n",
      "\t index: 0\n",
      "\t data: ['Ann Bob 0,59', 'Ann Bob 0,61', 'Ann Bob 0,62', 'Ann Bob 0,63', 'Ann Bob 0,64', 'Ann Bob 0,64']\n",
      "\t timestamp: 1674034684.104717\n",
      "\t previous_hash: 0000000000000000000000000000000000000000000000000000000000000000\n",
      "\t nonce: 107\n",
      "\t hash: 0023ffff670d24d533ea84da4c5e91df547eb16bc4d6690136ea029ed9277973\n",
      "}\n",
      "\n",
      "Block <__main__.Block object at 0x106426110>\n",
      "{\n",
      "\t index: 1\n",
      "\t data: ['Ann Bob 0,65', 'Ann Bob 0,66', 'Ann Bob 0,67', 'Ann Bob 0,68', 'Ann Bob 0,69', 'Ann Bob 0,70']\n",
      "\t timestamp: 1674034684.1053472\n",
      "\t previous_hash: 0023ffff670d24d533ea84da4c5e91df547eb16bc4d6690136ea029ed9277973\n",
      "\t nonce: 4696\n",
      "\t hash: 0021fd431866e719d23527d006ea95cb8becd475036f0303943e375c20faf3a0\n",
      "}\n",
      "\n",
      "Blockchain is valid\n",
      "Blockchain is not valid!\n"
     ]
    }
   ],
   "source": [
    "# creating new blockchain\n",
    "blockchain = create_blockchain()\n",
    "# printing values of the blockchain\n",
    "print_blockchain(blockchain)\n",
    "print(validating(blockchain))\n",
    "\n",
    "# testing validation of whole blockchain\n",
    "blockchain[1].index = 3\n",
    "print(validating(blockchain))"
   ]
  }
 ],
 "metadata": {
  "kernelspec": {
   "display_name": "Python 3",
   "language": "python",
   "name": "python3"
  },
  "language_info": {
   "codemirror_mode": {
    "name": "ipython",
    "version": 3
   },
   "file_extension": ".py",
   "mimetype": "text/x-python",
   "name": "python",
   "nbconvert_exporter": "python",
   "pygments_lexer": "ipython3",
   "version": "3.10.8 (main, Oct 13 2022, 09:48:40) [Clang 14.0.0 (clang-1400.0.29.102)]"
  },
  "vscode": {
   "interpreter": {
    "hash": "b0fa6594d8f4cbf19f97940f81e996739fb7646882a419484c72d19e05852a7e"
   }
  }
 },
 "nbformat": 4,
 "nbformat_minor": 2
}
